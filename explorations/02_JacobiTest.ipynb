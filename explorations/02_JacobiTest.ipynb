{
 "cells": [
  {
   "cell_type": "markdown",
   "metadata": {},
   "source": [
    "# Jacobi Test\n",
    "Test if the jacobian works"
   ]
  },
  {
   "cell_type": "code",
   "execution_count": 1,
   "metadata": {},
   "outputs": [
    {
     "name": "stdout",
     "output_type": "stream",
     "text": [
      "Notebook version as of 2018-11-23\n"
     ]
    }
   ],
   "source": [
    "# this file's version\n",
    "from datetime import datetime as dt\n",
    "print(\"Notebook version as of\", dt.today().date())"
   ]
  },
  {
   "cell_type": "markdown",
   "metadata": {},
   "source": [
    "## Imports"
   ]
  },
  {
   "cell_type": "code",
   "execution_count": 2,
   "metadata": {},
   "outputs": [
    {
     "name": "stdout",
     "output_type": "stream",
     "text": [
      "/home/wbarfuss/Drive/3.2_Beruf/1_Projects/01_DetRL/DetRL_Code/public/aei\n"
     ]
    }
   ],
   "source": [
    "cd ../aei"
   ]
  },
  {
   "cell_type": "code",
   "execution_count": 3,
   "metadata": {
    "collapsed": true
   },
   "outputs": [],
   "source": [
    "%matplotlib notebook\n",
    "import numpy as np\n",
    "import matplotlib.pyplot as plt\n",
    "\n",
    "np.set_printoptions(suppress=True)"
   ]
  },
  {
   "cell_type": "code",
   "execution_count": 4,
   "metadata": {},
   "outputs": [
    {
     "name": "stdout",
     "output_type": "stream",
     "text": [
      "/home/wbarfuss/Drive/3.2_Beruf/1_Projects/01_DetRL/DetRL_Code/public/aei/agents\n"
     ]
    }
   ],
   "source": [
    "cd agents/"
   ]
  },
  {
   "cell_type": "code",
   "execution_count": 5,
   "metadata": {},
   "outputs": [],
   "source": [
    "#from detQ import detQ\n",
    "from jacobiAEI import JacobiAEI\n",
    "from jacobiQ import JacobiQ\n",
    "from jacobiAC import JacobiAC\n",
    "from jacobiSARSA import JacobiSARSA\n"
   ]
  },
  {
   "cell_type": "code",
   "execution_count": 6,
   "metadata": {},
   "outputs": [
    {
     "name": "stdout",
     "output_type": "stream",
     "text": [
      "/home/wbarfuss/Drive/3.2_Beruf/1_Projects/01_DetRL/DetRL_Code/public/aei/envs\n"
     ]
    }
   ],
   "source": [
    "cd ../envs/"
   ]
  },
  {
   "cell_type": "code",
   "execution_count": 7,
   "metadata": {
    "collapsed": true
   },
   "outputs": [],
   "source": [
    "from Env_2StatePD import TwoStatePD\n",
    "from Env_2StateMatchingPennies import TwoStateMatchingPennies"
   ]
  },
  {
   "cell_type": "markdown",
   "metadata": {},
   "source": [
    "## Parameters"
   ]
  },
  {
   "cell_type": "code",
   "execution_count": 8,
   "metadata": {},
   "outputs": [
    {
     "name": "stdout",
     "output_type": "stream",
     "text": [
      "/home/wbarfuss/Drive/3.2_Beruf/1_Projects/01_DetRL/DetRL_Code/public\n"
     ]
    }
   ],
   "source": [
    "cd ../../"
   ]
  },
  {
   "cell_type": "code",
   "execution_count": 9,
   "metadata": {
    "collapsed": true
   },
   "outputs": [],
   "source": [
    "Rpd = TwoStatePD().RewardTensor()\n",
    "Tpd = TwoStatePD().TransitionTensor()"
   ]
  },
  {
   "cell_type": "code",
   "execution_count": 10,
   "metadata": {
    "collapsed": true
   },
   "outputs": [],
   "source": [
    "Rmp = TwoStateMatchingPennies().RewardTensor()\n",
    "Tmp = TwoStateMatchingPennies().TransitionTensor()"
   ]
  },
  {
   "cell_type": "code",
   "execution_count": 11,
   "metadata": {
    "collapsed": true
   },
   "outputs": [],
   "source": [
    "def jshape(J, v=0, w=None):\n",
    "    if w is None:\n",
    "        w = v\n",
    "    return J[:,:,v,:,:,w].reshape(4,4)"
   ]
  },
  {
   "cell_type": "code",
   "execution_count": 12,
   "metadata": {
    "collapsed": true
   },
   "outputs": [],
   "source": [
    "def vshape(X, v=0):\n",
    "    return X[:,:,v].reshape(4,)"
   ]
  },
  {
   "cell_type": "markdown",
   "metadata": {},
   "source": [
    "## Estimators\n",
    "\n",
    "... for (parts of) the Jacobian tensor"
   ]
  },
  {
   "cell_type": "code",
   "execution_count": 13,
   "metadata": {
    "collapsed": true
   },
   "outputs": [],
   "source": [
    "def estJacobi(agents, X, dx):\n",
    "    J = np.zeros((4, 4))\n",
    "    xv = np.array(getBehaviorVaraible(X))\n",
    "    \n",
    "    ADDlimit = np.minimum(1-xv, dx/2) / (dx/2)\n",
    "    SUBlimit = 1 -  np.maximum(-xv+dx/2, 0) / (dx/2)\n",
    "    fracs = (ADDlimit - SUBlimit + 1) / 2\n",
    "    print(fracs)\n",
    "    \n",
    "    DXvsPRE = np.array(xv) + np.eye(4) * fracs * dx\n",
    "    DXvsPOS = np.array(xv) - np.eye(4) * (1-fracs) * dx\n",
    "    \n",
    "    for i in range(4):\n",
    "        dX =\\\n",
    "            getBehaviorVaraible(\n",
    "                 agents.TDstep(obt_behavior(*DXvsPRE[i])) -\n",
    "                 agents.TDstep(obt_behavior(*DXvsPOS[i])) )\n",
    "\n",
    "        J[:, i] = np.array(np.array(dX)) / dx\n",
    "    return J"
   ]
  },
  {
   "cell_type": "code",
   "execution_count": 14,
   "metadata": {
    "collapsed": true
   },
   "outputs": [],
   "source": [
    "def est_dTss(agents, X, dx):\n",
    "    dTss = np.zeros((4, 4))\n",
    "    xv = np.array(getBehaviorVaraible(X))\n",
    "    \n",
    "    ADDlimit = np.minimum(1-xv, dx/2) / (dx/2)\n",
    "    SUBlimit = 1 -  np.maximum(-xv+dx/2, 0) / (dx/2)\n",
    "    fracs = (ADDlimit - SUBlimit + 1) / 2\n",
    "    print(fracs)\n",
    "    \n",
    "    DXvsPRE = np.array(xv) + np.eye(4) * fracs * dx\n",
    "    DXvsPOS = np.array(xv) - np.eye(4) * (1-fracs) * dx\n",
    "    \n",
    "    for i in range(4):\n",
    "        DeltTss = \\\n",
    "             agents.obtain_Tss(obt_behavior(*DXvsPRE[i])) -\\\n",
    "             agents.obtain_Tss(obt_behavior(*DXvsPOS[i])) \n",
    "\n",
    "        dTss[:, i] = np.array(DeltTss.reshape(4)) / dx\n",
    "    return dTss"
   ]
  },
  {
   "cell_type": "code",
   "execution_count": 15,
   "metadata": {
    "collapsed": true
   },
   "outputs": [],
   "source": [
    "def est_dRis(agents, X, dx):\n",
    "    dRis = np.zeros((4, 4))\n",
    "    xv = np.array(getBehaviorVaraible(X))\n",
    "    \n",
    "    ADDlimit = np.minimum(1-xv, dx/2) / (dx/2)\n",
    "    SUBlimit = 1 -  np.maximum(-xv+dx/2, 0) / (dx/2)\n",
    "    fracs = (ADDlimit - SUBlimit + 1) / 2\n",
    "    print(fracs)\n",
    "    \n",
    "    DXvsPRE = np.array(xv) + np.eye(4) * fracs * dx\n",
    "    DXvsPOS = np.array(xv) - np.eye(4) * (1-fracs) * dx\n",
    "    \n",
    "    for i in range(4):\n",
    "        DeltRis =\\\n",
    "             agents.obtain_Ris(obt_behavior(*DXvsPRE[i])) -\\\n",
    "             agents.obtain_Ris(obt_behavior(*DXvsPOS[i])) \n",
    "\n",
    "        dRis[:, i] = np.array(DeltRis.reshape(4)) / dx\n",
    "    return dRis"
   ]
  },
  {
   "cell_type": "code",
   "execution_count": 16,
   "metadata": {
    "collapsed": true
   },
   "outputs": [],
   "source": [
    "def est_dMss(agents, X, dx):\n",
    "    dMss = np.zeros((4, 4))\n",
    "    xv = np.array(getBehaviorVaraible(X))\n",
    "    \n",
    "    ADDlimit = np.minimum(1-xv, dx/2) / (dx/2)\n",
    "    SUBlimit = 1 -  np.maximum(-xv+dx/2, 0) / (dx/2)\n",
    "    fracs = (ADDlimit - SUBlimit + 1) / 2\n",
    "    print(fracs)\n",
    "    \n",
    "    DXvsPRE = np.array(xv) + np.eye(4) * fracs * dx\n",
    "    DXvsPOS = np.array(xv) - np.eye(4) * (1-fracs) * dx\n",
    "    \n",
    "    def M(agents, X):\n",
    "        Tss = agents.obtain_Tss(X)\n",
    "        M = np.eye(agents.Z) - agents.gamma * Tss\n",
    "        return M    \n",
    "    \n",
    "    for i in range(4):\n",
    "        dM =\\\n",
    "             M(agents, obt_behavior(*DXvsPRE[i])) -\\\n",
    "             M(agents, obt_behavior(*DXvsPOS[i])) \n",
    "\n",
    "        dMss[:, i] = np.array(dM.reshape(4)) / dx\n",
    "    return dMss"
   ]
  },
  {
   "cell_type": "code",
   "execution_count": 17,
   "metadata": {
    "collapsed": true
   },
   "outputs": [],
   "source": [
    "def est_dinvMss(agents, X, dx):\n",
    "    dinvMss = np.zeros((4, 4))\n",
    "    xv = np.array(getBehaviorVaraible(X))\n",
    "    \n",
    "    ADDlimit = np.minimum(1-xv, dx/2) / (dx/2)\n",
    "    SUBlimit = 1 -  np.maximum(-xv+dx/2, 0) / (dx/2)\n",
    "    fracs = (ADDlimit - SUBlimit + 1) / 2\n",
    "    print(fracs)\n",
    "    \n",
    "    DXvsPRE = np.array(xv) + np.eye(4) * fracs * dx\n",
    "    DXvsPOS = np.array(xv) - np.eye(4) * (1-fracs) * dx\n",
    "    \n",
    "    def invM(agents, X):\n",
    "        Tss = agents.obtain_Tss(X)\n",
    "        M = np.eye(agents.Z) - agents.gamma * Tss\n",
    "        return np.linalg.inv(M)    \n",
    "    \n",
    "    for i in range(4):\n",
    "        diM =\\\n",
    "             invM(agents, obt_behavior(*DXvsPRE[i])) -\\\n",
    "             invM(agents, obt_behavior(*DXvsPOS[i])) \n",
    "\n",
    "        dinvMss[:, i] = np.array(diM.reshape(4)) / dx\n",
    "    return dinvMss"
   ]
  },
  {
   "cell_type": "code",
   "execution_count": 18,
   "metadata": {
    "collapsed": true
   },
   "outputs": [],
   "source": [
    "def est_dVis(agents, X, dx):\n",
    "    dVis = np.zeros((4, 4))\n",
    "    xv = np.array(getBehaviorVaraible(X))\n",
    "    \n",
    "    ADDlimit = np.minimum(1-xv, dx/2) / (dx/2)\n",
    "    SUBlimit = 1 -  np.maximum(-xv+dx/2, 0) / (dx/2)\n",
    "    fracs = (ADDlimit - SUBlimit + 1) / 2\n",
    "    print(fracs)\n",
    "    \n",
    "    DXvsPRE = np.array(xv) + np.eye(4) * fracs * dx\n",
    "    DXvsPOS = np.array(xv) - np.eye(4) * (1-fracs) * dx\n",
    "    \n",
    "    for i in range(4):\n",
    "        DeltVis =\\\n",
    "             agents.obtain_Vis(obt_behavior(*DXvsPRE[i])) -\\\n",
    "             agents.obtain_Vis(obt_behavior(*DXvsPOS[i])) \n",
    "\n",
    "        dVis[:, i] = np.array(DeltVis.reshape(4)) / dx\n",
    "    return dVis"
   ]
  },
  {
   "cell_type": "code",
   "execution_count": 19,
   "metadata": {
    "collapsed": true
   },
   "outputs": [],
   "source": [
    "def est_dRisa(agents, X, dx):\n",
    "    dRisa = np.zeros((4, 4))\n",
    "    xv = np.array(getBehaviorVaraible(X))\n",
    "    \n",
    "    ADDlimit = np.minimum(1-xv, dx/2) / (dx/2)\n",
    "    SUBlimit = 1 -  np.maximum(-xv+dx/2, 0) / (dx/2)\n",
    "    fracs = (ADDlimit - SUBlimit + 1) / 2\n",
    "    print(fracs)\n",
    "    \n",
    "    DXvsPRE = np.array(xv) + np.eye(4) * fracs * dx\n",
    "    DXvsPOS = np.array(xv) - np.eye(4) * (1-fracs) * dx\n",
    "    \n",
    "    for i in range(4):\n",
    "        dR =\\\n",
    "            getBehaviorVaraible(\n",
    "                 agents.obtain_Risa(obt_behavior(*DXvsPRE[i])) -\n",
    "                 agents.obtain_Risa(obt_behavior(*DXvsPOS[i])) )\n",
    "\n",
    "        dRisa[:, i] = np.array(dR) / dx\n",
    "    return dRisa"
   ]
  },
  {
   "cell_type": "code",
   "execution_count": 20,
   "metadata": {
    "collapsed": true
   },
   "outputs": [],
   "source": [
    "def est_dQisa(agents, X, dx):\n",
    "    dQisa = np.zeros((4, 4))\n",
    "    xv = np.array(getBehaviorVaraible(X))\n",
    "    \n",
    "    ADDlimit = np.minimum(1-xv, dx/2) / (dx/2)\n",
    "    SUBlimit = 1 -  np.maximum(-xv+dx/2, 0) / (dx/2)\n",
    "    fracs = (ADDlimit - SUBlimit + 1) / 2\n",
    "    print(fracs)\n",
    "    \n",
    "    DXvsPRE = np.array(xv) + np.eye(4) * fracs * dx\n",
    "    DXvsPOS = np.array(xv) - np.eye(4) * (1-fracs) * dx\n",
    "    \n",
    "    for i in range(4):\n",
    "        dQ =\\\n",
    "            getBehaviorVaraible(\n",
    "                 agents.obtain_Qisa(obt_behavior(*DXvsPRE[i])) -\n",
    "                 agents.obtain_Qisa(obt_behavior(*DXvsPOS[i])) )\n",
    "\n",
    "        dQisa[:, i] = np.array(dQ) / dx\n",
    "    return dQisa"
   ]
  },
  {
   "cell_type": "code",
   "execution_count": 21,
   "metadata": {
    "collapsed": true
   },
   "outputs": [],
   "source": [
    "def est_dMaxQisa(agents, X, dx):\n",
    "    dMaxQisa = np.zeros((4, 4))\n",
    "    xv = np.array(getBehaviorVaraible(X))\n",
    "    \n",
    "    ADDlimit = np.minimum(1-xv, dx/2) / (dx/2)\n",
    "    SUBlimit = 1 -  np.maximum(-xv+dx/2, 0) / (dx/2)\n",
    "    fracs = (ADDlimit - SUBlimit + 1) / 2\n",
    "    print(fracs)\n",
    "    \n",
    "    DXvsPRE = np.array(xv) + np.eye(4) * fracs * dx\n",
    "    DXvsPOS = np.array(xv) - np.eye(4) * (1-fracs) * dx\n",
    "    \n",
    "    for i in range(4):\n",
    "        dmQ =\\\n",
    "            getBehaviorVaraible(\n",
    "                 agents.obtain_MaxQisa(obt_behavior(*DXvsPRE[i])) -\n",
    "                 agents.obtain_MaxQisa(obt_behavior(*DXvsPOS[i])) )\n",
    "\n",
    "        dMaxQisa[:, i] = np.array(dmQ) / dx\n",
    "    return dMaxQisa"
   ]
  },
  {
   "cell_type": "code",
   "execution_count": 22,
   "metadata": {
    "collapsed": true
   },
   "outputs": [],
   "source": [
    "def est_dNextVis(agents, X, dx):\n",
    "    dnextVis = np.zeros((4, 4))\n",
    "    xv = np.array(getBehaviorVaraible(X))\n",
    "    \n",
    "    ADDlimit = np.minimum(1-xv, dx/2) / (dx/2)\n",
    "    SUBlimit = 1 -  np.maximum(-xv+dx/2, 0) / (dx/2)\n",
    "    fracs = (ADDlimit - SUBlimit + 1) / 2\n",
    "    print(fracs)\n",
    "    \n",
    "    DXvsPRE = np.array(xv) + np.eye(4) * fracs * dx\n",
    "    DXvsPOS = np.array(xv) - np.eye(4) * (1-fracs) * dx\n",
    "    \n",
    "    for i in range(4):\n",
    "        dnVis =\\\n",
    "            getBehaviorVaraible(\n",
    "                 agents.obtain_NextVisa(obt_behavior(*DXvsPRE[i])) -\n",
    "                 agents.obtain_NextVisa(obt_behavior(*DXvsPOS[i])) )\n",
    "\n",
    "        dnextVis[:, i] = np.array(dnVis) / dx\n",
    "    return dnextVis"
   ]
  },
  {
   "cell_type": "code",
   "execution_count": 23,
   "metadata": {
    "collapsed": true
   },
   "outputs": [],
   "source": [
    "def est_dNextQisa(agents, X, dx):\n",
    "    dnextQisa = np.zeros((4, 4))\n",
    "    xv = np.array(getBehaviorVaraible(X))\n",
    "    \n",
    "    ADDlimit = np.minimum(1-xv, dx/2) / (dx/2)\n",
    "    SUBlimit = 1 -  np.maximum(-xv+dx/2, 0) / (dx/2)\n",
    "    fracs = (ADDlimit - SUBlimit + 1) / 2\n",
    "    print(fracs)\n",
    "    \n",
    "    DXvsPRE = np.array(xv) + np.eye(4) * fracs * dx\n",
    "    DXvsPOS = np.array(xv) - np.eye(4) * (1-fracs) * dx\n",
    "    \n",
    "    for i in range(4):\n",
    "        dnQisa =\\\n",
    "            getBehaviorVaraible(\n",
    "                 agents.obtain_NextQisa(obt_behavior(*DXvsPRE[i])) -\n",
    "                 agents.obtain_NextQisa(obt_behavior(*DXvsPOS[i])) )\n",
    "\n",
    "        dnextQisa[:, i] = np.array(dnQisa) / dx\n",
    "    return dnextQisa"
   ]
  },
  {
   "cell_type": "code",
   "execution_count": 24,
   "metadata": {
    "collapsed": true
   },
   "outputs": [],
   "source": [
    "def est_dtTDisa(agents, X, dx):\n",
    "    dtTDisa = np.zeros((4, 4))\n",
    "    xv = np.array(getBehaviorVaraible(X))\n",
    "    \n",
    "    ADDlimit = np.minimum(1-xv, dx/2) / (dx/2)\n",
    "    SUBlimit = 1 -  np.maximum(-xv+dx/2, 0) / (dx/2)\n",
    "    fracs = (ADDlimit - SUBlimit + 1) / 2\n",
    "    print(fracs)\n",
    "    \n",
    "    DXvsPRE = np.array(xv) + np.eye(4) * fracs * dx\n",
    "    DXvsPOS = np.array(xv) - np.eye(4) * (1-fracs) * dx\n",
    "    \n",
    "    for i in range(4):\n",
    "        dtTD =\\\n",
    "            getBehaviorVaraible(\n",
    "                 agents.obtain_truncedTDisa(obt_behavior(*DXvsPRE[i])) -\n",
    "                 agents.obtain_truncedTDisa(obt_behavior(*DXvsPOS[i])) )\n",
    "\n",
    "        dtTDisa[:, i] = np.array(dtTD) / dx\n",
    "    return dtTDisa"
   ]
  },
  {
   "cell_type": "code",
   "execution_count": 25,
   "metadata": {
    "collapsed": true
   },
   "outputs": [],
   "source": [
    "def est_dAisa(agents, X, dx):\n",
    "    dAisa = np.zeros((4, 4))\n",
    "    xv = np.array(getBehaviorVaraible(X))\n",
    "    \n",
    "    ADDlimit = np.minimum(1-xv, dx/2) / (dx/2)\n",
    "    SUBlimit = 1 -  np.maximum(-xv+dx/2, 0) / (dx/2)\n",
    "    fracs = (ADDlimit - SUBlimit + 1) / 2\n",
    "    print(fracs)\n",
    "    \n",
    "    DXvsPRE = np.array(xv) + np.eye(4) * fracs * dx\n",
    "    DXvsPOS = np.array(xv) - np.eye(4) * (1-fracs) * dx\n",
    "    \n",
    "    for i in range(4):\n",
    "        dA =\\\n",
    "            getBehaviorVaraible(\n",
    "                 agents.obtain_A(obt_behavior(*DXvsPRE[i])) -\n",
    "                 agents.obtain_A(obt_behavior(*DXvsPOS[i])) )\n",
    "\n",
    "        dAisa[:, i] = np.array(dA) / dx\n",
    "    return dAisa"
   ]
  },
  {
   "cell_type": "markdown",
   "metadata": {},
   "source": [
    "## Test"
   ]
  },
  {
   "cell_type": "code",
   "execution_count": 26,
   "metadata": {
    "collapsed": true
   },
   "outputs": [],
   "source": [
    "def obt_behavior(X000, X010, X100, X110):\n",
    "    Xinit = np.zeros((2,2,2))\n",
    "    Xinit[0, 0, 0] = X000\n",
    "    Xinit[1, 0, 0] = X100\n",
    "    Xinit[0, 1, 0] = X010\n",
    "    Xinit[1, 1, 0] = X110\n",
    "\n",
    "    Xinit[0, 0, 1] = 1.0 - Xinit[0, 0, 0]\n",
    "    Xinit[1, 0, 1] = 1.0 - Xinit[1, 0, 0]\n",
    "    Xinit[0, 1, 1] = 1.0 - Xinit[0, 1, 0]\n",
    "    Xinit[1, 1, 1] = 1.0 - Xinit[1, 1, 0]\n",
    "    \n",
    "    return Xinit"
   ]
  },
  {
   "cell_type": "code",
   "execution_count": 27,
   "metadata": {
    "collapsed": true
   },
   "outputs": [],
   "source": [
    "def getBehaviorVaraible(X):\n",
    "    return X[0, 0, 0], X[0, 1, 0], X[1, 0, 0], X[1, 1, 0]"
   ]
  },
  {
   "cell_type": "code",
   "execution_count": 28,
   "metadata": {
    "collapsed": true
   },
   "outputs": [],
   "source": [
    "alpha = 0.1\n",
    "beta = 4.0\n",
    "gamma = 0.23"
   ]
  },
  {
   "cell_type": "code",
   "execution_count": 29,
   "metadata": {
    "collapsed": true
   },
   "outputs": [],
   "source": [
    "agS = JacobiSARSA(Tpd, Rpd, alpha, beta, gamma)\n",
    "agA = JacobiAC(Tmp, Rmp, alpha, beta, gamma)\n",
    "#agApd = JacobiAC(Tpd, Rpd, alpha, beta, gamma)\n",
    "agQ = JacobiQ(Tmp, Rmp, alpha, beta, gamma)"
   ]
  },
  {
   "cell_type": "code",
   "execution_count": 30,
   "metadata": {
    "collapsed": true
   },
   "outputs": [],
   "source": [
    "X = obt_behavior(X000=0., X010=0.1, X100=0., X110=0.)\n",
    "X0 = obt_behavior(X000=0., X010=0., X100=0., X110=0.)\n",
    "X1 = obt_behavior(X000=1., X010=1., X100=1., X110=1.)\n",
    "X01 = obt_behavior(X000=0., X010=1., X100=0., X110=0.)\n",
    "\n",
    "X5 = obt_behavior(X000=0.5, X010=0.5, X100=0.5, X110=0.5)"
   ]
  },
  {
   "cell_type": "code",
   "execution_count": null,
   "metadata": {
    "collapsed": true
   },
   "outputs": [],
   "source": []
  },
  {
   "cell_type": "code",
   "execution_count": 31,
   "metadata": {
    "collapsed": true
   },
   "outputs": [],
   "source": [
    "# Choose one of the following:\n",
    "\n",
    "agents = agA\n",
    "# agents = agQ\n",
    "# agents = agS"
   ]
  },
  {
   "cell_type": "markdown",
   "metadata": {},
   "source": [
    "### fULL Jacobi--"
   ]
  },
  {
   "cell_type": "code",
   "execution_count": 32,
   "metadata": {
    "collapsed": true
   },
   "outputs": [],
   "source": [
    "X = agents.random_behavior()"
   ]
  },
  {
   "cell_type": "code",
   "execution_count": 33,
   "metadata": {},
   "outputs": [
    {
     "name": "stdout",
     "output_type": "stream",
     "text": [
      "[ 0.5  0.5  0.5  0.5]\n"
     ]
    },
    {
     "data": {
      "text/plain": [
       "array([[ 1.091,  0.008,  0.132, -0.   ],\n",
       "       [-0.012,  1.001,  0.01 , -0.153],\n",
       "       [-0.087,  0.   ,  0.904,  0.   ],\n",
       "       [ 0.   ,  0.115,  0.   ,  1.002]])"
      ]
     },
     "execution_count": 33,
     "metadata": {},
     "output_type": "execute_result"
    }
   ],
   "source": [
    "estJacobi(agents, X, 0.00001).round(3)"
   ]
  },
  {
   "cell_type": "code",
   "execution_count": 34,
   "metadata": {},
   "outputs": [
    {
     "data": {
      "text/plain": [
       "array([[ 1.091,  0.008,  0.132, -0.   ],\n",
       "       [-0.012,  1.001,  0.01 , -0.153],\n",
       "       [-0.087, -0.   ,  0.904,  0.   ],\n",
       "       [-0.   ,  0.115,  0.   ,  1.002]])"
      ]
     },
     "execution_count": 34,
     "metadata": {},
     "output_type": "execute_result"
    }
   ],
   "source": [
    "J = agents.jacobi(X)\n",
    "jshape(J, v=1, w=1).round(3)"
   ]
  },
  {
   "cell_type": "markdown",
   "metadata": {},
   "source": [
    "### dA"
   ]
  },
  {
   "cell_type": "raw",
   "metadata": {
    "collapsed": true
   },
   "source": [
    "X = agents.random_behavior()"
   ]
  },
  {
   "cell_type": "code",
   "execution_count": 35,
   "metadata": {},
   "outputs": [
    {
     "name": "stdout",
     "output_type": "stream",
     "text": [
      "[ 0.5  0.5  0.5  0.5]\n"
     ]
    },
    {
     "data": {
      "text/plain": [
       "array([[ 1.099,  0.005,  0.087, -0.   ],\n",
       "       [-0.013,  1.098,  0.011, -0.169],\n",
       "       [-0.269,  0.   ,  1.083,  0.   ],\n",
       "       [ 0.   ,  0.077,  0.   ,  1.002]])"
      ]
     },
     "execution_count": 35,
     "metadata": {},
     "output_type": "execute_result"
    }
   ],
   "source": [
    "est_dAisa(agents, X, 0.000001).round(3)"
   ]
  },
  {
   "cell_type": "code",
   "execution_count": 36,
   "metadata": {},
   "outputs": [
    {
     "data": {
      "text/plain": [
       "array([[ 1.107,  0.012,  0.081, -0.   ],\n",
       "       [ 0.004,  1.111, -0.003, -0.17 ],\n",
       "       [-0.318, -0.011,  1.114,  0.   ],\n",
       "       [-0.008,  0.068,  0.006,  1.002]])"
      ]
     },
     "execution_count": 36,
     "metadata": {},
     "output_type": "execute_result"
    }
   ],
   "source": [
    "jshape(agents.obtain_dA(X)).round(3)"
   ]
  },
  {
   "cell_type": "markdown",
   "metadata": {},
   "source": [
    "### dQisa"
   ]
  },
  {
   "cell_type": "code",
   "execution_count": 37,
   "metadata": {
    "collapsed": true
   },
   "outputs": [],
   "source": [
    "X = agents.random_behavior()"
   ]
  },
  {
   "cell_type": "code",
   "execution_count": 38,
   "metadata": {},
   "outputs": [
    {
     "data": {
      "text/plain": [
       "array([[-0.01002841, -0.0545599 ,  0.76422097,  0.03452693],\n",
       "       [-0.02864048, -0.02831465, -0.0068941 , -0.74323504],\n",
       "       [-0.75997159,  0.0545599 ,  0.00577903, -0.03452693],\n",
       "       [ 0.02864048,  0.79831465,  0.0068941 , -0.02676496]])"
      ]
     },
     "execution_count": 38,
     "metadata": {},
     "output_type": "execute_result"
    }
   ],
   "source": [
    "jshape(agents.obtain_dQisa(X))"
   ]
  },
  {
   "cell_type": "code",
   "execution_count": 39,
   "metadata": {},
   "outputs": [
    {
     "name": "stdout",
     "output_type": "stream",
     "text": [
      "[ 0.5  0.5  0.5  0.5]\n"
     ]
    },
    {
     "data": {
      "text/plain": [
       "array([[-0.01002841, -0.0545599 ,  0.76422097,  0.03452693],\n",
       "       [-0.02864048, -0.02831465, -0.0068941 , -0.74323504],\n",
       "       [-0.75997159,  0.0545599 ,  0.00577903, -0.03452693],\n",
       "       [ 0.02864048,  0.79831465,  0.0068941 , -0.02676496]])"
      ]
     },
     "execution_count": 39,
     "metadata": {},
     "output_type": "execute_result"
    }
   ],
   "source": [
    "est_dQisa(agents, X, 0.000001)"
   ]
  },
  {
   "cell_type": "markdown",
   "metadata": {},
   "source": [
    "### dRisa"
   ]
  },
  {
   "cell_type": "code",
   "execution_count": 40,
   "metadata": {
    "collapsed": true
   },
   "outputs": [],
   "source": [
    "X = agents.random_behavior()"
   ]
  },
  {
   "cell_type": "code",
   "execution_count": 41,
   "metadata": {},
   "outputs": [
    {
     "data": {
      "text/plain": [
       "array([[ 0.,  0.,  1.,  0.],\n",
       "       [ 0.,  0.,  0., -1.],\n",
       "       [-1.,  0.,  0.,  0.],\n",
       "       [ 0.,  1.,  0.,  0.]])"
      ]
     },
     "execution_count": 41,
     "metadata": {},
     "output_type": "execute_result"
    }
   ],
   "source": [
    "jshape(agents.obtain_dRisa(X))"
   ]
  },
  {
   "cell_type": "code",
   "execution_count": 42,
   "metadata": {},
   "outputs": [
    {
     "name": "stdout",
     "output_type": "stream",
     "text": [
      "[ 0.5  0.5  0.5  0.5]\n"
     ]
    },
    {
     "data": {
      "text/plain": [
       "array([[ 0.,  0.,  1.,  0.],\n",
       "       [ 0.,  0.,  0., -1.],\n",
       "       [-1.,  0.,  0.,  0.],\n",
       "       [ 0.,  1.,  0.,  0.]])"
      ]
     },
     "execution_count": 42,
     "metadata": {},
     "output_type": "execute_result"
    }
   ],
   "source": [
    "est_dRisa(agents, X, 0.0000000001).round(4)"
   ]
  },
  {
   "cell_type": "markdown",
   "metadata": {},
   "source": [
    "### dRis"
   ]
  },
  {
   "cell_type": "raw",
   "metadata": {
    "collapsed": true
   },
   "source": [
    "X = agents.random_behavior()\n",
    "#X = X0"
   ]
  },
  {
   "cell_type": "code",
   "execution_count": 43,
   "metadata": {},
   "outputs": [
    {
     "data": {
      "text/plain": [
       "array([ 0.52756771,  0.26542263,  0.71948686,  0.41125061])"
      ]
     },
     "execution_count": 43,
     "metadata": {},
     "output_type": "execute_result"
    }
   ],
   "source": [
    "vshape(X)"
   ]
  },
  {
   "cell_type": "code",
   "execution_count": 44,
   "metadata": {},
   "outputs": [
    {
     "data": {
      "text/plain": [
       "array([[ 0.439 ,  0.    ,  0.0551,  0.    ],\n",
       "       [ 0.    ,  0.1775,  0.    ,  0.4692],\n",
       "       [-0.439 ,  0.    , -0.0551,  0.    ],\n",
       "       [ 0.    , -0.1775,  0.    , -0.4692]])"
      ]
     },
     "execution_count": 44,
     "metadata": {},
     "output_type": "execute_result"
    }
   ],
   "source": [
    "agents.obtain_dRis(X)[:,:,:,:,0].reshape(4,4).round(4)"
   ]
  },
  {
   "cell_type": "code",
   "execution_count": 45,
   "metadata": {},
   "outputs": [
    {
     "name": "stdout",
     "output_type": "stream",
     "text": [
      "[ 0.5  0.5  0.5  0.5]\n"
     ]
    },
    {
     "data": {
      "text/plain": [
       "array([[ 0.439 ,  0.    ,  0.0551,  0.    ],\n",
       "       [ 0.    ,  0.1775,  0.    ,  0.4692],\n",
       "       [-0.439 ,  0.    , -0.0551,  0.    ],\n",
       "       [ 0.    , -0.1775,  0.    , -0.4692]])"
      ]
     },
     "execution_count": 45,
     "metadata": {},
     "output_type": "execute_result"
    }
   ],
   "source": [
    "est_dRis(agents, X, 0.00001).round(4)"
   ]
  },
  {
   "cell_type": "markdown",
   "metadata": {},
   "source": [
    "### dTss"
   ]
  },
  {
   "cell_type": "raw",
   "metadata": {
    "collapsed": true
   },
   "source": [
    "X = agents.random_behavior()\n",
    "#X = X1"
   ]
  },
  {
   "cell_type": "code",
   "execution_count": 46,
   "metadata": {},
   "outputs": [
    {
     "data": {
      "text/plain": [
       "array([ 0.52756771,  0.26542263,  0.71948686,  0.41125061])"
      ]
     },
     "execution_count": 46,
     "metadata": {},
     "output_type": "execute_result"
    }
   ],
   "source": [
    "vshape(X)"
   ]
  },
  {
   "cell_type": "code",
   "execution_count": 47,
   "metadata": {},
   "outputs": [
    {
     "data": {
      "text/plain": [
       "array([[-1.,  0.,  0.,  0.],\n",
       "       [ 1.,  0.,  0.,  0.],\n",
       "       [ 0., -1.,  0.,  0.],\n",
       "       [ 0.,  1.,  0.,  0.]])"
      ]
     },
     "execution_count": 47,
     "metadata": {},
     "output_type": "execute_result"
    }
   ],
   "source": [
    "agents.obtain_dTss(X)[:,:,:,:,0].reshape(4,4).round(4)"
   ]
  },
  {
   "cell_type": "code",
   "execution_count": 48,
   "metadata": {},
   "outputs": [
    {
     "name": "stdout",
     "output_type": "stream",
     "text": [
      "[ 0.5  0.5  0.5  0.5]\n"
     ]
    },
    {
     "data": {
      "text/plain": [
       "array([[-1.,  0.,  0.,  0.],\n",
       "       [ 1.,  0.,  0.,  0.],\n",
       "       [ 0., -1.,  0.,  0.],\n",
       "       [ 0.,  1.,  0.,  0.]])"
      ]
     },
     "execution_count": 48,
     "metadata": {},
     "output_type": "execute_result"
    }
   ],
   "source": [
    "est_dTss(agents, X, 0.00001).round(4)"
   ]
  },
  {
   "cell_type": "markdown",
   "metadata": {},
   "source": [
    "### dMss"
   ]
  },
  {
   "cell_type": "code",
   "execution_count": 49,
   "metadata": {},
   "outputs": [
    {
     "data": {
      "text/plain": [
       "array([[-0.23,  0.  ,  0.  ,  0.  ],\n",
       "       [ 0.23,  0.  ,  0.  ,  0.  ],\n",
       "       [ 0.  , -0.23,  0.  ,  0.  ],\n",
       "       [ 0.  ,  0.23,  0.  ,  0.  ]])"
      ]
     },
     "execution_count": 49,
     "metadata": {},
     "output_type": "execute_result"
    }
   ],
   "source": [
    "(agents.gamma * agents.obtain_dTss(X)[:,:,:,:,0].reshape(4,4)).round(4)"
   ]
  },
  {
   "cell_type": "code",
   "execution_count": 50,
   "metadata": {},
   "outputs": [
    {
     "name": "stdout",
     "output_type": "stream",
     "text": [
      "[ 0.5  0.5  0.5  0.5]\n"
     ]
    },
    {
     "data": {
      "text/plain": [
       "array([[ 0.23,  0.  ,  0.  ,  0.  ],\n",
       "       [-0.23,  0.  ,  0.  ,  0.  ],\n",
       "       [ 0.  ,  0.23,  0.  ,  0.  ],\n",
       "       [ 0.  , -0.23,  0.  ,  0.  ]])"
      ]
     },
     "execution_count": 50,
     "metadata": {},
     "output_type": "execute_result"
    }
   ],
   "source": [
    "est_dMss(agents, X, 0.00001).round(4)"
   ]
  },
  {
   "cell_type": "markdown",
   "metadata": {},
   "source": [
    "### dinvMss"
   ]
  },
  {
   "cell_type": "raw",
   "metadata": {
    "collapsed": true
   },
   "source": [
    "X = agents.random_behavior()\n",
    "X = X0"
   ]
  },
  {
   "cell_type": "code",
   "execution_count": 51,
   "metadata": {},
   "outputs": [
    {
     "data": {
      "text/plain": [
       "array([ 0.52756771,  0.26542263,  0.71948686,  0.41125061])"
      ]
     },
     "execution_count": 51,
     "metadata": {},
     "output_type": "execute_result"
    }
   ],
   "source": [
    "vshape(X)"
   ]
  },
  {
   "cell_type": "code",
   "execution_count": 52,
   "metadata": {},
   "outputs": [
    {
     "data": {
      "text/plain": [
       "array([[-0.2495, -0.0322,  0.    ,  0.    ],\n",
       "       [ 0.2495,  0.0322,  0.    ,  0.    ],\n",
       "       [-0.0449, -0.2368,  0.    ,  0.    ],\n",
       "       [ 0.0449,  0.2368,  0.    ,  0.    ]])"
      ]
     },
     "execution_count": 52,
     "metadata": {},
     "output_type": "execute_result"
    }
   ],
   "source": [
    "Tss = agents.obtain_Tss(X)\n",
    "Ris = agents.obtain_Ris(X)\n",
    "dTss = agents.obtain_dTss(X)\n",
    "dRis = agents.obtain_dRis(X)\n",
    "M = np.eye(agents.Z) - agents.gamma*Tss\n",
    "dM = - agents.gamma * dTss\n",
    "invM = np.linalg.inv(M)\n",
    "dinvM = np.tensordot(np.tensordot(-1*invM, dM, axes=[1, 0]),\n",
    "                     invM, axes=[1, 0])\n",
    "\n",
    "dinvM = np.tensordot(-1*invM,\n",
    "                     np.tensordot( dM, invM, axes=[1, 0]),\n",
    "                     axes=[1, 0])\n",
    "\n",
    "dinvM2 = \\\n",
    "np.einsum(-1 * invM, [0, 1],\n",
    "          np.einsum(dM, [0, 1, 2, 3, 4],\n",
    "                    invM, [1, 5], [0, 5, 2, 3, 4]), [1, 2, 3, 4, 5],\n",
    "         [0, 2, 3, 4, 5]\n",
    "         )\n",
    "\n",
    "\n",
    "dinvM2[:,:,:,:,0].reshape(4,4).round(4)\n",
    "\n",
    "# np.transpose(dinvM, axes=[1, 0, 2, 3, 4])[:,:,:,:,0].reshape(4,4).round(4)\n",
    "            \n",
    "\n",
    "#dinvM[0, 1, 0, 1, 0]"
   ]
  },
  {
   "cell_type": "code",
   "execution_count": 53,
   "metadata": {},
   "outputs": [
    {
     "name": "stdout",
     "output_type": "stream",
     "text": [
      "[ 0.5  0.5  0.5  0.5]\n"
     ]
    },
    {
     "data": {
      "text/plain": [
       "array([[-0.249476  , -0.03223971,  0.        ,  0.        ],\n",
       "       [ 0.249476  ,  0.03223971,  0.        ,  0.        ],\n",
       "       [-0.04489008, -0.23682563,  0.        ,  0.        ],\n",
       "       [ 0.04489008,  0.23682563,  0.        ,  0.        ]])"
      ]
     },
     "execution_count": 53,
     "metadata": {},
     "output_type": "execute_result"
    }
   ],
   "source": [
    "est_dinvMss(agents, X, 0.0001)"
   ]
  },
  {
   "cell_type": "markdown",
   "metadata": {},
   "source": [
    "### dVis"
   ]
  },
  {
   "cell_type": "code",
   "execution_count": 54,
   "metadata": {},
   "outputs": [
    {
     "data": {
      "text/plain": [
       "array([[ 0.3784,  0.019 ,  0.0488,  0.0537],\n",
       "       [ 0.0681,  0.1394,  0.0088,  0.3944],\n",
       "       [-0.3784, -0.019 , -0.0488, -0.0537],\n",
       "       [-0.0681, -0.1394, -0.0088, -0.3944]])"
      ]
     },
     "execution_count": 54,
     "metadata": {},
     "output_type": "execute_result"
    }
   ],
   "source": [
    "agents.obtain_dVis(X)[:,:,:,:,0].reshape(4,4).round(4)"
   ]
  },
  {
   "cell_type": "code",
   "execution_count": 55,
   "metadata": {},
   "outputs": [
    {
     "name": "stdout",
     "output_type": "stream",
     "text": [
      "[ 0.5  0.5  0.5  0.5]\n"
     ]
    },
    {
     "data": {
      "text/plain": [
       "array([[ 0.3784,  0.019 ,  0.0488,  0.0537],\n",
       "       [ 0.0681,  0.1394,  0.0088,  0.3944],\n",
       "       [-0.3784, -0.019 , -0.0488, -0.0537],\n",
       "       [-0.0681, -0.1394, -0.0088, -0.3944]])"
      ]
     },
     "execution_count": 55,
     "metadata": {},
     "output_type": "execute_result"
    }
   ],
   "source": [
    "est_dVis(agents, X, 0.0000001).round(4)"
   ]
  },
  {
   "cell_type": "markdown",
   "metadata": {},
   "source": [
    "The subsequent parts of the TD error are agent specific:"
   ]
  },
  {
   "cell_type": "markdown",
   "metadata": {},
   "source": [
    "### dtruncedTD"
   ]
  },
  {
   "cell_type": "code",
   "execution_count": 56,
   "metadata": {
    "collapsed": true
   },
   "outputs": [],
   "source": [
    "agents = agQ"
   ]
  },
  {
   "cell_type": "code",
   "execution_count": 57,
   "metadata": {},
   "outputs": [
    {
     "name": "stdout",
     "output_type": "stream",
     "text": [
      "[ 0.5  0.5  0.5  0.5]\n"
     ]
    },
    {
     "data": {
      "text/plain": [
       "array([[ 0.0157,  0.0006,  0.772 , -0.1695],\n",
       "       [ 0.0157,  0.0006,  0.002 , -0.9395],\n",
       "       [-0.6629, -0.0958, -0.0018, -0.0099],\n",
       "       [ 0.1191,  0.7557, -0.0016, -0.0111]])"
      ]
     },
     "execution_count": 57,
     "metadata": {},
     "output_type": "execute_result"
    }
   ],
   "source": [
    "est_dtTDisa(agents, X, 0.000001).round(4)"
   ]
  },
  {
   "cell_type": "code",
   "execution_count": 58,
   "metadata": {},
   "outputs": [
    {
     "data": {
      "text/plain": [
       "array([[ 0.0157,  0.0006,  0.772 , -0.1695],\n",
       "       [ 0.0157,  0.0006,  0.002 , -0.9395],\n",
       "       [-0.6629, -0.0958, -0.0018, -0.0099],\n",
       "       [ 0.1191,  0.7557, -0.0016, -0.0111]])"
      ]
     },
     "execution_count": 58,
     "metadata": {},
     "output_type": "execute_result"
    }
   ],
   "source": [
    "jshape(agents.obtain_dtruncedTDisa(X)).round(4)"
   ]
  },
  {
   "cell_type": "code",
   "execution_count": 59,
   "metadata": {},
   "outputs": [
    {
     "data": {
      "text/plain": [
       "array([[ 0.  ,  0.  ,  0.77,  0.  ],\n",
       "       [ 0.  ,  0.  ,  0.  , -0.77],\n",
       "       [-0.77,  0.  ,  0.  ,  0.  ],\n",
       "       [ 0.  ,  0.77,  0.  ,  0.  ]])"
      ]
     },
     "execution_count": 59,
     "metadata": {},
     "output_type": "execute_result"
    }
   ],
   "source": [
    "(1-gamma) * jshape(agents.obtain_dRisa(X))"
   ]
  },
  {
   "cell_type": "markdown",
   "metadata": {},
   "source": [
    "### d max Qisa"
   ]
  },
  {
   "cell_type": "code",
   "execution_count": 60,
   "metadata": {
    "collapsed": true
   },
   "outputs": [],
   "source": [
    "X = agents.random_behavior()"
   ]
  },
  {
   "cell_type": "code",
   "execution_count": 61,
   "metadata": {},
   "outputs": [
    {
     "data": {
      "text/plain": [
       "array([[-0.00491781, -0.06297986,  0.00293498,  0.60466866],\n",
       "       [-0.00491781, -0.06297986,  0.00293498,  0.60466866],\n",
       "       [ 0.62431115,  0.48099451, -0.00641   ,  0.14206622],\n",
       "       [ 0.08300145,  1.02306867, -0.00370803,  0.1601558 ]])"
      ]
     },
     "execution_count": 61,
     "metadata": {},
     "output_type": "execute_result"
    }
   ],
   "source": [
    "jshape(agents.obtain_dmaxQisa(X))"
   ]
  },
  {
   "cell_type": "code",
   "execution_count": 62,
   "metadata": {},
   "outputs": [
    {
     "name": "stdout",
     "output_type": "stream",
     "text": [
      "[ 0.5  0.5  0.5  0.5]\n"
     ]
    },
    {
     "data": {
      "text/plain": [
       "array([[-0.00491781, -0.06297986,  0.00293498,  0.60466866],\n",
       "       [-0.00491781, -0.06297986,  0.00293498,  0.60466866],\n",
       "       [ 0.62431115,  0.48099451, -0.00641   ,  0.14206622],\n",
       "       [ 0.08300145,  1.02306867, -0.00370803,  0.1601558 ]])"
      ]
     },
     "execution_count": 62,
     "metadata": {},
     "output_type": "execute_result"
    }
   ],
   "source": [
    "est_dMaxQisa(agents, X, 0.00001)"
   ]
  },
  {
   "cell_type": "markdown",
   "metadata": {},
   "source": [
    "### dnext Qisa"
   ]
  },
  {
   "cell_type": "code",
   "execution_count": 63,
   "metadata": {
    "collapsed": true
   },
   "outputs": [],
   "source": [
    "agents = agS"
   ]
  },
  {
   "cell_type": "code",
   "execution_count": 64,
   "metadata": {
    "collapsed": true
   },
   "outputs": [],
   "source": [
    "X = agents.random_behavior()"
   ]
  },
  {
   "cell_type": "code",
   "execution_count": 65,
   "metadata": {},
   "outputs": [
    {
     "name": "stdout",
     "output_type": "stream",
     "text": [
      "[ 0.5  0.5  0.5  0.5]\n"
     ]
    },
    {
     "data": {
      "text/plain": [
       "array([[-2.73676378, -0.72043079,  6.77476298,  2.98255644],\n",
       "       [-3.21101633, -0.56170064,  4.60360859, -0.52566693],\n",
       "       [-1.0776136 ,  5.95712592, -0.34536763, -2.64196661],\n",
       "       [ 2.4433501 ,  5.75409548, -0.84200585, -1.62953469]])"
      ]
     },
     "execution_count": 65,
     "metadata": {},
     "output_type": "execute_result"
    }
   ],
   "source": [
    "est_dNextQisa(agents, X, 0.0001)"
   ]
  },
  {
   "cell_type": "code",
   "execution_count": 66,
   "metadata": {},
   "outputs": [
    {
     "data": {
      "text/plain": [
       "array([[-2.73676378, -0.72043079,  6.77476298,  2.98255644],\n",
       "       [-3.21101633, -0.56170064,  4.60360858, -0.52566693],\n",
       "       [-1.0776136 ,  5.95712592, -0.34536763, -2.64196661],\n",
       "       [ 2.4433501 ,  5.75409548, -0.84200585, -1.62953469]])"
      ]
     },
     "execution_count": 66,
     "metadata": {},
     "output_type": "execute_result"
    }
   ],
   "source": [
    "jshape(agents.obtain_dnextQisa(X))"
   ]
  },
  {
   "cell_type": "markdown",
   "metadata": {},
   "source": [
    "### d next Visa"
   ]
  },
  {
   "cell_type": "code",
   "execution_count": 67,
   "metadata": {
    "collapsed": true
   },
   "outputs": [],
   "source": [
    "agents = agA"
   ]
  },
  {
   "cell_type": "code",
   "execution_count": 68,
   "metadata": {
    "collapsed": true
   },
   "outputs": [],
   "source": [
    "# X = X1\n",
    "X = agents.random_behavior()"
   ]
  },
  {
   "cell_type": "code",
   "execution_count": 69,
   "metadata": {},
   "outputs": [
    {
     "data": {
      "text/plain": [
       "array([[-0.01153777, -0.21626885,  0.02191929,  0.03687991],\n",
       "       [-0.01153777, -0.21626885,  0.02191929,  0.03687991],\n",
       "       [ 0.03057025,  0.14167422, -0.07913182, -0.02415943],\n",
       "       [ 0.05016424,  0.10950945, -0.09530126, -0.02056436]])"
      ]
     },
     "execution_count": 69,
     "metadata": {},
     "output_type": "execute_result"
    }
   ],
   "source": [
    "jshape(agents.obtain_dnextVisa(X))"
   ]
  },
  {
   "cell_type": "code",
   "execution_count": 70,
   "metadata": {},
   "outputs": [
    {
     "name": "stdout",
     "output_type": "stream",
     "text": [
      "[ 0.5  0.5  0.5  0.5]\n"
     ]
    },
    {
     "data": {
      "text/plain": [
       "array([[-0.01153777, -0.21626885,  0.02191929,  0.03687991],\n",
       "       [-0.01153777, -0.21626885,  0.02191929,  0.03687991],\n",
       "       [ 0.03057025,  0.14167422, -0.07913182, -0.02415943],\n",
       "       [ 0.05016424,  0.10950945, -0.09530126, -0.02056436]])"
      ]
     },
     "execution_count": 70,
     "metadata": {},
     "output_type": "execute_result"
    }
   ],
   "source": [
    "est_dNextVis(agents, X, 0.00001)"
   ]
  }
 ],
 "metadata": {
  "kernelspec": {
   "display_name": "Python 3",
   "language": "python",
   "name": "python3"
  },
  "language_info": {
   "codemirror_mode": {
    "name": "ipython",
    "version": 3
   },
   "file_extension": ".py",
   "mimetype": "text/x-python",
   "name": "python",
   "nbconvert_exporter": "python",
   "pygments_lexer": "ipython3",
   "version": "3.6.5"
  }
 },
 "nbformat": 4,
 "nbformat_minor": 2
}
